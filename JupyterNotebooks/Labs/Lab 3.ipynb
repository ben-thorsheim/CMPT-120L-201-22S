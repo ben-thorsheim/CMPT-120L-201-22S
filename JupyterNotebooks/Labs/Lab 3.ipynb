{
 "cells": [
  {
   "cell_type": "markdown",
   "metadata": {},
   "source": [
    "# Lab Three\n",
    "---\n",
    "\n",
    "For this lab we're going to get into logic\n",
    "\n",
    "Our Goals are:\n",
    "- Using Conditionals\n",
    "- Using Loops\n",
    "- Creating a Function\n",
    "- Using a Class"
   ]
  },
  {
   "cell_type": "code",
   "execution_count": 2,
   "metadata": {},
   "outputs": [
    {
     "name": "stdout",
     "output_type": "stream",
     "text": [
      "We're going to the Bahamas.\n",
      "We're going to Universal.\n"
     ]
    }
   ],
   "source": [
    "# Create an if statement\n",
    "\n",
    "won_championship = True\n",
    "if won_championship:\n",
    "    print(\"We're going to the Bahamas.\")\n",
    "if True:\n",
    "    print(\"We're going to Universal.\")"
   ]
  },
  {
   "cell_type": "code",
   "execution_count": 3,
   "metadata": {},
   "outputs": [
    {
     "name": "stdout",
     "output_type": "stream",
     "text": [
      "Damn bro, we just blew the fucking lead.\n"
     ]
    }
   ],
   "source": [
    "# Create an if else statement\n",
    "\n",
    "won_championship = False\n",
    "if won_championship:\n",
    "    print(\"We're going to the Bahamas.\")\n",
    "else:\n",
    "    print(\"Damn bro, we just blew the fucking lead.\")\n"
   ]
  },
  {
   "cell_type": "code",
   "execution_count": 29,
   "metadata": {},
   "outputs": [
    {
     "name": "stdout",
     "output_type": "stream",
     "text": [
      "We're buying a Playstation.\n"
     ]
    }
   ],
   "source": [
    "# Create an if elif else statement\n",
    "\n",
    "quality_playstation = True\n",
    "is_free = False\n",
    "need_to_get_one = False\n",
    "if quality_playstation:\n",
    "    print(\"We're buying a Playstation.\")\n",
    "elif is_free and need_to_get_one:\n",
    "    print(\"We're buying one because it's free.\")\n",
    "else:\n",
    "    print(\"Damn bro, I just blew the lead.\")\n"
   ]
  },
  {
   "cell_type": "code",
   "execution_count": 14,
   "metadata": {},
   "outputs": [
    {
     "name": "stdout",
     "output_type": "stream",
     "text": [
      "0\n",
      "1\n",
      "2\n",
      "3\n",
      "4\n",
      "5\n",
      "6\n",
      "7\n",
      "8\n",
      "9\n"
     ]
    }
   ],
   "source": [
    "# Create a for loop using range(). Go from 0 to 9. Print out each number.\n",
    "\n",
    "#Premade list\n",
    "numbers = [\"0\",\"1\",\"2\",\"3\",\"4\",\"5\",\"6\",\"7\",\"8\",\"9\"]\n",
    "\n",
    "for item in numbers:\n",
    "    print(item)"
   ]
  },
  {
   "cell_type": "code",
   "execution_count": 31,
   "metadata": {},
   "outputs": [
    {
     "name": "stdout",
     "output_type": "stream",
     "text": [
      "Blue\n",
      "Yellow\n",
      "Red\n",
      "Green\n",
      "Purple\n",
      "Magenta\n",
      "Lilac\n",
      "Length of the input string:\n",
      "7\n"
     ]
    }
   ],
   "source": [
    "# Create a for loop iterating through this list and printing out the value.\n",
    "arr = ['Blue', 'Yellow', 'Red', 'Green', 'Purple', 'Magenta', 'Lilac']\n",
    "for item in arr:\n",
    "    print(item)\n",
    "# Get the length of the list above and print it.\n",
    "inp_lst = ['Blue', 'Yellow', 'Red', 'Green', 'Purple', 'Magenta', 'Lilac']\n",
    "size = 0\n",
    "for len in inp_lst:\n",
    "    size += 1\n",
    "print(\"Length of the input string:\")\n",
    "print(size)\n"
   ]
  },
  {
   "cell_type": "code",
   "execution_count": 20,
   "metadata": {},
   "outputs": [
    {
     "name": "stdout",
     "output_type": "stream",
     "text": [
      "What's up?\n",
      "What's up?\n",
      "What's up?\n",
      "What's up?\n",
      "What's up?\n",
      "What's up?\n"
     ]
    }
   ],
   "source": [
    "# Create a while loop that ends after 6 times through. Print something for each pass.\n",
    "\n",
    "x = 0\n",
    "while (x < 6):\n",
    "    x += 1\n",
    "    print (\"What's up?\")"
   ]
  },
  {
   "cell_type": "code",
   "execution_count": 26,
   "metadata": {
    "tags": []
   },
   "outputs": [
    {
     "name": "stdout",
     "output_type": "stream",
     "text": [
      "15\n"
     ]
    }
   ],
   "source": [
    "# Create a function to add 2 numbers together. Print out the number\n",
    "\n",
    "def addition(input1, input2):\n",
    "    sum = input1 + input2\n",
    "    print(input1 + input2)\n",
    "addition(8,7)"
   ]
  },
  {
   "cell_type": "code",
   "execution_count": 36,
   "metadata": {},
   "outputs": [
    {
     "name": "stdout",
     "output_type": "stream",
     "text": [
      "even\n"
     ]
    }
   ],
   "source": [
    "# Create a function that tells you if a number is odd or even and print the result.\n",
    "\n",
    "def check(num):\n",
    "    if num % 2 == 0:\n",
    "        print(\"even\")\n",
    "    else:\n",
    "        print(\"odd\")\n",
    "check (22)"
   ]
  },
  {
   "cell_type": "code",
   "execution_count": 75,
   "metadata": {
    "tags": []
   },
   "outputs": [],
   "source": [
    "# Initialize an instance of the following class. Use a variable to store the object and then call the info function to print out the attributes.\n",
    "class Dog:\n",
    "    def __init__(self, name: str, height: int, weight: int, breed: int):\n",
    "        self.name = name\n",
    "        self.height = height\n",
    "        self.weight = weight\n",
    "        self.breed = breed\n",
    "\n",
    "    def info(self):\n",
    "        print(\"Name:\", self.name)\n",
    "        print(\"Weight:\", str(self.weight) + \" Pounds\")\n",
    "        print(\"Height:\", str(self.height) + \" Inches\")\n",
    "        print(\"Breed:\", str(self.breed))\n",
    "   \n",
    "    if __name__ == \"main\":\n",
    "       Skipp = Dog(70, 48, \"Skipper\", Pomeranian)\n",
    "       Skipp.who_is_this\n",
    "       print(Skipp.name)"
   ]
  }
 ],
 "metadata": {
  "interpreter": {
   "hash": "6b5318982f8d72d90cd36bfa2e98546ee27090b6a028d8e71394b9f0a4a0e32e"
  },
  "kernelspec": {
   "display_name": "Python 3.8.5 64-bit",
   "language": "python",
   "name": "python3"
  },
  "language_info": {
   "codemirror_mode": {
    "name": "ipython",
    "version": 3
   },
   "file_extension": ".py",
   "mimetype": "text/x-python",
   "name": "python",
   "nbconvert_exporter": "python",
   "pygments_lexer": "ipython3",
   "version": "3.9.5"
  },
  "orig_nbformat": 2
 },
 "nbformat": 4,
 "nbformat_minor": 2
}
